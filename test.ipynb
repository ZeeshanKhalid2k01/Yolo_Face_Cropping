{
 "cells": [
  {
   "cell_type": "code",
   "execution_count": 4,
   "metadata": {},
   "outputs": [
    {
     "name": "stdout",
     "output_type": "stream",
     "text": [
      "E:\\NCSEAL\\computer_vision_project\\yolov7-face-github\\yolov7_save_crop\\yolov7-object-cropping\n"
     ]
    }
   ],
   "source": [
    "cd E:\\NCSEAL\\computer_vision_project\\yolov7-face-github\\yolov7_save_crop\\yolov7-object-cropping"
   ]
  },
  {
   "cell_type": "code",
   "execution_count": 12,
   "metadata": {},
   "outputs": [
    {
     "name": "stdout",
     "output_type": "stream",
     "text": [
      " Volume in drive E is New Volume\n",
      " Volume Serial Number is CEEC-56AD\n",
      "\n",
      " Directory of E:\\NCSEAL\\computer_vision_project\\yolov7-face-github\\yolov7_save_crop\\yolov7-object-cropping\n",
      "\n",
      "31/10/2023  09:55 am    <DIR>          .\n",
      "17/10/2023  12:36 pm    <DIR>          ..\n",
      "31/10/2023  10:02 am    <DIR>          crop\n",
      "17/10/2023  12:34 pm    <DIR>          data\n",
      "17/10/2023  12:34 pm            10,053 detect_and_crop.py\n",
      "17/10/2023  12:34 pm            35,823 LICENSE\n",
      "17/10/2023  12:36 pm    <DIR>          models\n",
      "17/10/2023  12:34 pm             3,178 README.md\n",
      "17/10/2023  12:34 pm               989 requirements.txt\n",
      "17/10/2023  12:36 pm    <DIR>          runs\n",
      "31/10/2023  10:01 am       148,017,897 traced_model.pt\n",
      "17/10/2023  12:36 pm    <DIR>          utils\n",
      "14/12/2022  07:48 am        73,582,486 yolov7-face.pt\n",
      "06/07/2022  09:10 pm        75,587,165 yolov7.pt\n",
      "               7 File(s)    297,237,591 bytes\n",
      "               7 Dir(s)  14,650,712,064 bytes free\n"
     ]
    }
   ],
   "source": [
    "!dir"
   ]
  },
  {
   "cell_type": "code",
   "execution_count": 13,
   "metadata": {},
   "outputs": [
    {
     "name": "stdout",
     "output_type": "stream",
     "text": [
      "Namespace(agnostic_nms=False, augment=False, classes=None, conf_thres=0.25, device='', exist_ok=False, img_size=640, iou_thres=0.45, name='exp', no_trace=False, nosave=False, project='runs/detect', save_conf=False, save_txt=False, source='0', update=False, view_img=False, weights='yolov7.pt')\n",
      "Fusing layers... \n",
      "RepConv.fuse_repvgg_block\n",
      "RepConv.fuse_repvgg_block\n",
      "RepConv.fuse_repvgg_block\n",
      " Convert model to Traced-model... \n",
      " traced_script_module saved! \n",
      " model is traced! \n",
      "\n",
      "1/1: 0...  success (640x480 at 30.00 FPS).\n",
      "\n",
      "0: 4 persons, 1 chair, 2 tvs, Done. (89.9ms) Inference, (21.2ms) NMS\n",
      "0: 4 persons, 1 tv, Done. (89.4ms) Inference, (7.0ms) NMS\n",
      "0: 3 persons, 1 chair, 2 tvs, Done. (88.3ms) Inference, (9.5ms) NMS\n",
      "0: 3 persons, 1 chair, 2 tvs, Done. (88.4ms) Inference, (11.0ms) NMS\n",
      "0: 4 persons, 1 tv, Done. (90.5ms) Inference, (7.2ms) NMS\n",
      "0: 4 persons, 2 tvs, Done. (89.0ms) Inference, (6.6ms) NMS\n",
      "0: 4 persons, 2 tvs, Done. (88.9ms) Inference, (6.1ms) NMS\n",
      "0: 3 persons, 2 tvs, Done. (88.6ms) Inference, (5.9ms) NMS\n",
      "0: 3 persons, 2 tvs, Done. (89.2ms) Inference, (11.7ms) NMS\n",
      "0: 3 persons, 1 chair, 2 tvs, Done. (87.6ms) Inference, (10.1ms) NMS\n",
      "0: 4 persons, 2 tvs, Done. (88.9ms) Inference, (7.6ms) NMS\n",
      "0: 4 persons, 2 tvs, Done. (89.4ms) Inference, (7.0ms) NMS\n",
      "0: 4 persons, 2 tvs, Done. (89.5ms) Inference, (7.2ms) NMS\n",
      "0: 4 persons, 1 tv, Done. (89.4ms) Inference, (12.0ms) NMS\n",
      "0: 4 persons, 2 tvs, Done. (89.2ms) Inference, (7.0ms) NMS\n",
      "0: 4 persons, 1 chair, 2 tvs, Done. (88.1ms) Inference, (7.1ms) NMS\n",
      "0: 4 persons, 1 chair, 2 tvs, Done. (90.1ms) Inference, (10.1ms) NMS\n",
      "0: 3 persons, 1 chair, 1 tv, Done. (89.4ms) Inference, (7.3ms) NMS\n",
      "0: 4 persons, 1 tv, Done. (89.7ms) Inference, (9.0ms) NMS\n",
      "0: 4 persons, 1 tv, Done. (90.5ms) Inference, (6.8ms) NMS\n",
      "0: 4 persons, 1 tv, Done. (87.0ms) Inference, (6.0ms) NMS\n",
      "0: 4 persons, 1 tv, Done. (90.9ms) Inference, (9.4ms) NMS\n",
      "0: 4 persons, 2 tvs, Done. (89.0ms) Inference, (7.6ms) NMS\n",
      "0: 4 persons, 1 tv, Done. (89.0ms) Inference, (9.9ms) NMS\n",
      "0: 4 persons, 1 tv, Done. (90.1ms) Inference, (8.9ms) NMS\n",
      "0: 4 persons, 1 tv, Done. (87.2ms) Inference, (4.6ms) NMS\n",
      "0: 4 persons, 1 chair, 1 tv, Done. (88.5ms) Inference, (10.5ms) NMS\n",
      "0: 4 persons, 1 tv, Done. (90.4ms) Inference, (8.5ms) NMS\n",
      "0: 4 persons, 1 tv, Done. (89.8ms) Inference, (7.0ms) NMS\n",
      "0: 4 persons, 1 tv, Done. (88.9ms) Inference, (7.6ms) NMS\n",
      "0: 4 persons, 1 tv, Done. (89.7ms) Inference, (6.2ms) NMS\n",
      "0: 4 persons, 1 tv, Done. (89.0ms) Inference, (8.3ms) NMS\n",
      "0: 4 persons, 1 tv, Done. (87.6ms) Inference, (4.0ms) NMS\n",
      "0: 4 persons, 1 tv, Done. (89.2ms) Inference, (9.1ms) NMS\n",
      "0: 4 persons, 1 tv, Done. (89.6ms) Inference, (7.0ms) NMS\n",
      "0: 3 persons, 1 tv, Done. (88.4ms) Inference, (7.0ms) NMS\n",
      "0: 3 persons, 1 tv, Done. (88.9ms) Inference, (7.7ms) NMS\n",
      "0: 4 persons, 1 tv, Done. (88.6ms) Inference, (6.0ms) NMS\n",
      "0: 4 persons, 1 tv, Done. (88.1ms) Inference, (4.4ms) NMS\n",
      "0: 4 persons, 1 tv, Done. (88.1ms) Inference, (4.5ms) NMS\n",
      "0: 4 persons, 1 tv, Done. (88.7ms) Inference, (7.8ms) NMS\n",
      "0: 3 persons, 1 tv, Done. (89.5ms) Inference, (7.5ms) NMS\n",
      "0: 3 persons, 1 tv, Done. (87.9ms) Inference, (7.0ms) NMS\n",
      "0: 4 persons, 2 tvs, Done. (87.9ms) Inference, (11.0ms) NMS\n",
      "0: 4 persons, 2 tvs, Done. (87.9ms) Inference, (8.0ms) NMS\n",
      "0: 4 persons, 2 tvs, Done. (90.1ms) Inference, (7.8ms) NMS\n",
      "0: 4 persons, 2 tvs, Done. (89.7ms) Inference, (10.6ms) NMS\n",
      "0: 4 persons, 1 tv, Done. (88.4ms) Inference, (9.6ms) NMS\n",
      "0: 3 persons, 2 tvs, Done. (89.2ms) Inference, (7.9ms) NMS\n",
      "0: 4 persons, 1 tv, Done. (87.9ms) Inference, (9.0ms) NMS\n",
      "0: 4 persons, 1 tv, Done. (89.8ms) Inference, (7.0ms) NMS\n",
      "0: 3 persons, 1 tv, Done. (88.4ms) Inference, (3.0ms) NMS\n",
      "0: 3 persons, 1 tv, Done. (87.7ms) Inference, (7.5ms) NMS\n",
      "0: 3 persons, 1 tv, Done. (88.8ms) Inference, (6.0ms) NMS\n",
      "0: 3 persons, 1 chair, 1 tv, Done. (90.6ms) Inference, (7.0ms) NMS\n",
      "0: 3 persons, 1 chair, 1 tv, Done. (88.2ms) Inference, (3.8ms) NMS\n",
      "0: 3 persons, 1 tv, Done. (89.2ms) Inference, (6.8ms) NMS\n",
      "0: 4 persons, 1 tv, Done. (87.2ms) Inference, (7.0ms) NMS\n",
      "0: 4 persons, 1 tv, Done. (90.4ms) Inference, (6.2ms) NMS\n",
      "0: 3 persons, 1 tv, Done. (89.4ms) Inference, (7.0ms) NMS\n",
      "0: 4 persons, 1 tv, 1 laptop, Done. (89.4ms) Inference, (7.6ms) NMS\n",
      "0: 4 persons, 2 tvs, Done. (87.2ms) Inference, (7.3ms) NMS\n",
      "0: 4 persons, 2 tvs, Done. (90.1ms) Inference, (7.0ms) NMS\n",
      "0: 4 persons, 2 chairs, 2 tvs, Done. (88.2ms) Inference, (5.1ms) NMS\n",
      "0: 4 persons, 2 chairs, 2 tvs, Done. (88.7ms) Inference, (6.0ms) NMS\n",
      "0: 4 persons, 3 chairs, 3 tvs, Done. (89.0ms) Inference, (7.0ms) NMS\n",
      "0: 4 persons, 3 chairs, 3 tvs, Done. (87.6ms) Inference, (4.0ms) NMS\n",
      "0: 4 persons, 4 chairs, 2 tvs, Done. (88.1ms) Inference, (7.0ms) NMS\n",
      "0: 4 persons, 2 chairs, 3 tvs, Done. (89.3ms) Inference, (4.0ms) NMS\n",
      "0: 4 persons, 2 chairs, 3 tvs, Done. (87.6ms) Inference, (7.5ms) NMS\n",
      "0: 4 persons, 4 chairs, 2 tvs, Done. (88.4ms) Inference, (7.0ms) NMS\n",
      "0: 4 persons, 4 chairs, 2 tvs, Done. (89.0ms) Inference, (3.9ms) NMS\n",
      "0: 4 persons, 1 cup, 4 chairs, 2 tvs, Done. (88.7ms) Inference, (8.0ms) NMS\n",
      "0: 4 persons, 1 cup, 4 chairs, 2 tvs, Done. (88.4ms) Inference, (5.8ms) NMS\n",
      "0: 4 persons, 4 chairs, 3 tvs, Done. (88.5ms) Inference, (8.7ms) NMS\n",
      "0: 4 persons, 4 chairs, 3 tvs, Done. (88.1ms) Inference, (7.4ms) NMS\n",
      "0: 4 persons, 3 chairs, 3 tvs, Done. (89.2ms) Inference, (7.8ms) NMS\n",
      "0: 4 persons, 2 chairs, 4 tvs, Done. (88.2ms) Inference, (4.7ms) NMS\n",
      "0: 4 persons, 2 chairs, 4 tvs, Done. (87.9ms) Inference, (6.0ms) NMS\n",
      "0: 4 persons, 3 chairs, 3 tvs, Done. (89.1ms) Inference, (10.1ms) NMS\n",
      "0: 4 persons, 3 chairs, 3 tvs, Done. (88.0ms) Inference, (9.2ms) NMS\n",
      "0: 4 persons, 2 chairs, 4 tvs, Done. (88.5ms) Inference, (9.0ms) NMS\n",
      "0: 4 persons, 3 chairs, 4 tvs, Done. (90.3ms) Inference, (7.0ms) NMS\n",
      "0: 4 persons, 2 chairs, 4 tvs, Done. (89.0ms) Inference, (3.8ms) NMS\n",
      "0: 4 persons, 2 chairs, 4 tvs, Done. (87.1ms) Inference, (6.4ms) NMS\n",
      "0: 4 persons, 2 chairs, 4 tvs, Done. (87.6ms) Inference, (4.4ms) NMS\n",
      "0: 4 persons, 2 chairs, 4 tvs, Done. (89.1ms) Inference, (7.0ms) NMS\n",
      "0: 4 persons, 2 chairs, 4 tvs, Done. (88.8ms) Inference, (3.2ms) NMS\n",
      "0: 4 persons, 2 chairs, 3 tvs, Done. (87.7ms) Inference, (3.5ms) NMS\n",
      "0: 4 persons, 2 chairs, 3 tvs, Done. (87.6ms) Inference, (5.2ms) NMS\n",
      "0: 4 persons, 2 chairs, 3 tvs, Done. (87.1ms) Inference, (4.8ms) NMS\n",
      "0: 4 persons, 2 chairs, 3 tvs, Done. (88.1ms) Inference, (6.1ms) NMS\n",
      "0: 4 persons, 2 chairs, 3 tvs, Done. (88.5ms) Inference, (4.0ms) NMS\n",
      "0: 4 persons, 2 chairs, 4 tvs, Done. (88.6ms) Inference, (7.2ms) NMS\n",
      "0: 4 persons, 2 chairs, 4 tvs, Done. (88.4ms) Inference, (8.1ms) NMS\n",
      "0: 4 persons, 1 chair, 5 tvs, Done. (89.5ms) Inference, (6.0ms) NMS\n",
      "0: 5 persons, 4 tvs, 1 laptop, Done. (89.2ms) Inference, (7.0ms) NMS\n",
      "0: 5 persons, 4 tvs, 1 laptop, Done. (88.2ms) Inference, (3.2ms) NMS\n",
      "0: 4 persons, 3 tvs, Done. (87.2ms) Inference, (6.2ms) NMS\n",
      "0: 4 persons, 3 tvs, Done. (88.1ms) Inference, (4.4ms) NMS\n",
      "0: 4 persons, 3 tvs, Done. (88.7ms) Inference, (9.0ms) NMS\n",
      "0: 4 persons, 1 chair, 3 tvs, Done. (89.2ms) Inference, (8.3ms) NMS\n",
      "0: 4 persons, 3 tvs, Done. (88.2ms) Inference, (7.0ms) NMS\n",
      "0: 4 persons, 3 tvs, Done. (89.7ms) Inference, (9.1ms) NMS\n",
      "0: 4 persons, 2 tvs, Done. (89.1ms) Inference, (5.1ms) NMS\n",
      "0: 3 persons, 1 chair, 3 tvs, Done. (87.6ms) Inference, (5.0ms) NMS\n",
      "0: 3 persons, 1 chair, 3 tvs, Done. (88.0ms) Inference, (11.1ms) NMS\n",
      "0: 3 persons, 1 chair, 3 tvs, Done. (87.6ms) Inference, (9.9ms) NMS\n",
      "0: 4 persons, 2 tvs, Done. (90.1ms) Inference, (8.0ms) NMS\n",
      "0: 4 persons, 2 tvs, Done. (91.4ms) Inference, (12.2ms) NMS\n",
      "0: 4 persons, 2 tvs, Done. (88.3ms) Inference, (11.7ms) NMS\n",
      "0: 4 persons, 2 tvs, Done. (87.9ms) Inference, (4.0ms) NMS\n",
      "0: 4 persons, 1 chair, 2 tvs, Done. (88.1ms) Inference, (6.1ms) NMS\n",
      "0: 4 persons, 1 chair, 2 tvs, Done. (89.0ms) Inference, (10.4ms) NMS\n",
      "0: 4 persons, 2 tvs, Done. (89.2ms) Inference, (3.5ms) NMS\n",
      "0: 4 persons, 2 chairs, 2 tvs, Done. (88.5ms) Inference, (5.0ms) NMS\n",
      "0: 4 persons, 2 chairs, 2 tvs, Done. (87.0ms) Inference, (4.4ms) NMS\n",
      "0: 4 persons, 2 chairs, 2 tvs, Done. (88.7ms) Inference, (6.6ms) NMS\n",
      "0: 4 persons, 2 tvs, Done. (89.2ms) Inference, (7.0ms) NMS\n",
      "0: 4 persons, 2 tvs, Done. (87.5ms) Inference, (9.0ms) NMS\n",
      "0: 4 persons, 2 tvs, Done. (89.6ms) Inference, (6.2ms) NMS\n",
      "0: 4 persons, 2 tvs, Done. (89.3ms) Inference, (5.9ms) NMS\n",
      "0: 4 persons, 2 tvs, Done. (88.5ms) Inference, (8.0ms) NMS\n",
      "0: 4 persons, 2 tvs, Done. (89.2ms) Inference, (7.0ms) NMS\n",
      "0: 4 persons, 2 tvs, Done. (88.6ms) Inference, (11.0ms) NMS\n",
      "0: 4 persons, 2 tvs, Done. (89.7ms) Inference, (7.0ms) NMS\n",
      "0: 4 persons, 2 tvs, Done. (88.5ms) Inference, (9.6ms) NMS\n",
      "0: 4 persons, 2 tvs, Done. (89.0ms) Inference, (6.3ms) NMS\n",
      "0: 4 persons, 2 tvs, Done. (88.9ms) Inference, (9.2ms) NMS\n",
      "0: 4 persons, 2 tvs, Done. (87.5ms) Inference, (6.7ms) NMS\n",
      "0: 4 persons, 2 tvs, Done. (89.1ms) Inference, (8.6ms) NMS\n",
      "0: 4 persons, 1 chair, 2 tvs, Done. (87.5ms) Inference, (2.0ms) NMS\n",
      "0: 4 persons, 1 chair, 2 tvs, Done. (87.6ms) Inference, (5.5ms) NMS\n",
      "0: 5 persons, 2 tvs, Done. (88.1ms) Inference, (6.9ms) NMS\n",
      "0: 5 persons, 2 tvs, Done. (89.3ms) Inference, (6.1ms) NMS\n",
      "0: 4 persons, 1 chair, 2 tvs, Done. (88.8ms) Inference, (7.6ms) NMS\n",
      "0: 4 persons, 1 chair, 2 tvs, Done. (89.3ms) Inference, (7.0ms) NMS\n",
      "Done. (23.277s)\n"
     ]
    },
    {
     "name": "stderr",
     "output_type": "stream",
     "text": [
      "YOLOR  yolov7-object-cropping-2-g1e95fd9 torch 1.7.0+cu101 CUDA:0 (Quadro P1000, 4095.8125MB)\n",
      "\n",
      "Model Summary: 306 layers, 36905341 parameters, 6652669 gradients, 104.5 GFLOPS\n"
     ]
    }
   ],
   "source": [
    "!python detect_and_crop.py  --source 0"
   ]
  },
  {
   "cell_type": "code",
   "execution_count": null,
   "metadata": {},
   "outputs": [],
   "source": [
    "python .\\detect.py --weights yolov7-face.pt --source \"video.mp4\" --save-crop --view-img"
   ]
  },
  {
   "cell_type": "code",
   "execution_count": null,
   "metadata": {},
   "outputs": [],
   "source": [
    "python .\\detect.py --weights yolov7-face.pt --source \"http://192.168.199.137:6677/videofeed?username=\" --save-crop --view-img"
   ]
  },
  {
   "cell_type": "markdown",
   "metadata": {},
   "source": []
  }
 ],
 "metadata": {
  "kernelspec": {
   "display_name": "yolo_v7_detect_face",
   "language": "python",
   "name": "python3"
  },
  "language_info": {
   "codemirror_mode": {
    "name": "ipython",
    "version": 3
   },
   "file_extension": ".py",
   "mimetype": "text/x-python",
   "name": "python",
   "nbconvert_exporter": "python",
   "pygments_lexer": "ipython3",
   "version": "3.7.5"
  }
 },
 "nbformat": 4,
 "nbformat_minor": 2
}
